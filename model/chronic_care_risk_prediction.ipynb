{
 "cells": [
  {
   "cell_type": "markdown",
   "metadata": {},
   "source": [
    "# AI-Driven Risk Prediction Engine for Chronic Care Patients\n",
    "## Data Exploration and Model Development\n",
    "\n",
    "This notebook implements the ML pipeline for predicting patient deterioration risk within 90 days.\n",
    "\n",
    "### Project Objectives:\n",
    "- Predict probability of deterioration within 90 days (0-100%)\n",
    "- Achieve AUROC > 0.75\n",
    "- Provide explainable predictions using SHAP\n",
    "- Build clinician-friendly risk assessments"
   ]
  },
  {
   "cell_type": "code",
   "execution_count": null,
   "metadata": {},
   "outputs": [],
   "source": [
    "# Import required libraries\n",
    "import pandas as pd\n",
    "import numpy as np\n",
    "import matplotlib.pyplot as plt\n",
    "import seaborn as sns\n",
    "from datetime import datetime, timedelta\n",
    "import warnings\n",
    "warnings.filterwarnings('ignore')\n",
    "\n",
    "# Set plotting style\n",
    "plt.style.use('seaborn-v0_8')\n",
    "sns.set_palette(\"husl\")\n",
    "\n",
    "# Display settings\n",
    "pd.set_option('display.max_columns', None)\n",
    "pd.set_option('display.width', None)\n",
    "pd.set_option('display.max_colwidth', 50)\n",
    "\n",
    "print(\"Environment setup complete!\")"
   ]
  },
  {
   "cell_type": "markdown",
   "metadata": {},
   "source": [
    "## 1. Dataset Loading and Initial Exploration"
   ]
  },
  {
   "cell_type": "code",
   "execution_count": null,
   "metadata": {},
   "outputs": [],
   "source": [
    "# Load the EHR dataset\n",
    "df = pd.read_csv('dataset/ehr_cleaned_dataset.csv')\n",
    "\n",
    "print(f\"Dataset Shape: {df.shape}\")\n",
    "print(f\"Memory Usage: {df.memory_usage(deep=True).sum() / 1024**2:.2f} MB\")\n",
    "print(f\"\\nColumn Count: {len(df.columns)}\")\n",
    "print(f\"Sample of columns: {df.columns[:10].tolist()}\")"
   ]
  },
  {
   "cell_type": "code",
   "execution_count": null,
   "metadata": {},
   "outputs": [],
   "source": [
    "# Examine data types and missing values\n",
    "print(\"Data Types Distribution:\")\n",
    "print(df.dtypes.value_counts())\n",
    "print(f\"\\nTotal Missing Values: {df.isnull().sum().sum():,}\")\n",
    "print(f\"Percentage Missing: {(df.isnull().sum().sum() / (df.shape[0] * df.shape[1]) * 100):.2f}%\")"
   ]
  },
  {
   "cell_type": "code",
   "execution_count": null,
   "metadata": {},
   "outputs": [],
   "source": [
    "# Key patient information\n",
    "print(\"Key Patient Statistics:\")\n",
    "print(f\"Total Patients: {df['patient_id'].nunique():,}\")\n",
    "print(f\"Gender Distribution:\")\n",
    "print(df['gender'].value_counts())\n",
    "\n",
    "# Mortality analysis (our target variable)\n",
    "print(f\"\\nMortality Distribution:\")\n",
    "print(df['mortality'].value_counts())\n",
    "print(f\"Mortality Rate: {df['mortality'].mean():.4f} ({df['mortality'].mean()*100:.2f}%)\")"
   ]
  },
  {
   "cell_type": "markdown",
   "metadata": {},
   "source": [
    "## 2. Feature Categories Analysis"
   ]
  },
  {
   "cell_type": "code",
   "execution_count": null,
   "metadata": {},
   "outputs": [],
   "source": [
    "# Categorize features by type\n",
    "demographic_cols = ['patient_id', 'gender', 'birthdate']\n",
    "temporal_cols = ['first_encounter', 'last_encounter', 'avg_encounter_duration_min', 'deceaseddatetime']\n",
    "vital_cols = ['Body_Height', 'Body_Mass_Index', 'Body_Weight', 'Oral_temperature']\n",
    "lab_cols = ['Calcium', 'Carbon_Dioxide', 'Chloride', 'Creatinine', 'Glucose', \n",
    "           'Hemoglobin_A1c_Hemoglobin_total_in_Blood', 'Potassium', 'Sodium', \n",
    "           'Total_Cholesterol', 'Triglycerides', 'Urea_Nitrogen']\n",
    "condition_cols = ['conditions']\n",
    "target_col = ['mortality']\n",
    "\n",
    "print(\"Feature Categories:\")\n",
    "print(f\"Demographic: {len(demographic_cols)} features\")\n",
    "print(f\"Temporal: {len(temporal_cols)} features\")\n",
    "print(f\"Vitals: {len(vital_cols)} features\")\n",
    "print(f\"Lab Results: {len(lab_cols)} features\")\n",
    "print(f\"Conditions: {len(condition_cols)} features\")\n",
    "print(f\"Target: {len(target_col)} feature\")"
   ]
  },
  {
   "cell_type": "code",
   "execution_count": null,
   "metadata": {},
   "outputs": [],
   "source": [
    "# Analyze chronic conditions\n",
    "import ast\n",
    "\n",
    "def extract_conditions(condition_str):\n",
    "    if pd.isna(condition_str) or condition_str == '':\n",
    "        return []\n",
    "    try:\n",
    "        return ast.literal_eval(condition_str)\n",
    "    except:\n",
    "        return []\n",
    "\n",
    "# Extract all conditions\n",
    "df['conditions_list'] = df['conditions'].apply(extract_conditions)\n",
    "\n",
    "# Get condition counts\n",
    "all_conditions = []\n",
    "for conditions in df['conditions_list']:\n",
    "    all_conditions.extend(conditions)\n",
    "\n",
    "condition_counts = pd.Series(all_conditions).value_counts()\n",
    "print(\"Top 10 Most Common Conditions:\")\n",
    "print(condition_counts.head(10))"
   ]
  },
  {
   "cell_type": "markdown",
   "metadata": {},
   "source": [
    "## 3. Target Variable Analysis"
   ]
  },
  {
   "cell_type": "code",
   "execution_count": null,
   "metadata": {},
   "outputs": [],
   "source": [
    "# Mortality analysis by demographics\n",
    "fig, axes = plt.subplots(1, 2, figsize=(15, 6))\n",
    "\n",
    "# Mortality by gender\n",
    "mortality_by_gender = df.groupby('gender')['mortality'].agg(['count', 'sum', 'mean']).round(4)\n",
    "mortality_by_gender.plot(kind='bar', y='mean', ax=axes[0], color=['skyblue', 'lightcoral'])\n",
    "axes[0].set_title('Mortality Rate by Gender')\n",
    "axes[0].set_ylabel('Mortality Rate')\n",
    "axes[0].tick_params(axis='x', rotation=0)\n",
    "\n",
    "# Age at death analysis\n",
    "df['birthdate'] = pd.to_datetime(df['birthdate'])\n",
    "df['deceaseddatetime'] = pd.to_datetime(df['deceaseddatetime'])\n",
    "df['age_at_death'] = (df['deceaseddatetime'] - df['birthdate']).dt.days / 365.25\n",
    "\n",
    "deceased_patients = df[df['mortality'] == 1]['age_at_death'].dropna()\n",
    "if len(deceased_patients) > 0:\n",
    "    axes[1].hist(deceased_patients, bins=20, alpha=0.7, color='lightcoral')\n",
    "    axes[1].set_title('Age Distribution at Death')\n",
    "    axes[1].set_xlabel('Age at Death')\n",
    "    axes[1].set_ylabel('Frequency')\n",
    "\n",
    "plt.tight_layout()\n",
    "plt.show()\n",
    "\n",
    "print(f\"\\nMortality Statistics:\")\n",
    "print(mortality_by_gender)"
   ]
  }
 ],
 "metadata": {
  "kernelspec": {
   "display_name": "Python 3",
   "language": "python",
   "name": "python3"
  },
  "language_info": {
   "codemirror_mode": {
    "name": "ipython",
    "version": 3
   },
   "file_extension": ".py",
   "mimetype": "text/x-python",
   "name": "python",
   "nbconvert_exporter": "python",
   "pygments_lexer": "ipython3",
   "version": "3.8.0"
  }
 },
 "nbformat": 4,
 "nbformat_minor": 4
}
